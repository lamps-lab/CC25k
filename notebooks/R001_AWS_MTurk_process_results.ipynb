{
 "cells": [
  {
   "cell_type": "code",
   "execution_count": 2,
   "id": "b76eb444-827e-42df-ad80-f2563393d3ef",
   "metadata": {
    "tags": []
   },
   "outputs": [],
   "source": [
    "\"\"\"\n",
    "R001_Fall_2023_AI_Reproducibility__\n",
    "|\n",
    "R001_AWS_MTurk_process_results.ipynb\n",
    "Created on Fri Mar 22 01:14:11 2024\n",
    "@author: Rochana Obadage\n",
    "\"\"\""
   ]
  },
  {
   "cell_type": "code",
   "execution_count": 1,
   "id": "8a2e798e",
   "metadata": {
    "scrolled": true
   },
   "outputs": [],
   "source": [
    "!python --version"
   ]
  },
  {
   "cell_type": "markdown",
   "id": "62c61bdf",
   "metadata": {},
   "source": [
    "## ``Summarizing and Post processing the crowdsourced labels`` "
   ]
  },
  {
   "cell_type": "code",
   "execution_count": 2,
   "id": "fa3f6c99",
   "metadata": {},
   "outputs": [],
   "source": [
    "import os\n",
    "import json\n",
    "import glob\n",
    "import pandas as pd\n",
    "from collections import Counter\n",
    "\n",
    "import pandas as pd\n",
    "import numpy as np\n",
    "import seaborn as sns\n",
    "import matplotlib.pyplot as plt\n",
    "from sklearn.metrics import confusion_matrix, ConfusionMatrixDisplay"
   ]
  },
  {
   "cell_type": "markdown",
   "id": "0348c830",
   "metadata": {},
   "source": [
    "## post-processing MTurk batches"
   ]
  },
  {
   "cell_type": "code",
   "execution_count": 2,
   "id": "f8cd1d0b-832c-46e6-986b-a4dc7386f1ac",
   "metadata": {
    "tags": []
   },
   "outputs": [],
   "source": [
    "# all_csv_unique\n",
    "for idx, csv_file in enumerate(all_csv_unique):\n",
    "    df_ = pd.read_csv(csv_file)\n",
    "    filename = os.path.basename(csv_file).replace('_results','_simplified')\n",
    "    batch_name = os.path.basename(csv_file).replace('_results','').replace('.csv','')\n",
    "    \n",
    "    df_30_new = pd.DataFrame(columns=['hit_id','worker_id',\n",
    "                                  'work_time_in_seconds','input_index','input_context',\n",
    "                                      'input_file_key','input_first_author','task_answers','batch'])\n",
    "\n",
    "    for index, row in df_.iterrows():\n",
    "        temp_row = {\"hit_id\": row['HITId'],\n",
    "                     'worker_id':row['WorkerId'] ,\n",
    "                     'work_time_in_seconds': row['WorkTimeInSeconds'],\n",
    "                     'input_index': row['Input.index'],\n",
    "                     'input_context': row['Input.context'] ,\n",
    "                     'input_file_key': row['Input.file_key'] ,\n",
    "                     'input_first_author': row['Input.first_author'] ,\n",
    "                     'task_answers':eval(row['Answer.taskAnswers'])[0]['citation-contexts']['label'],\n",
    "                     'batch':batch_name\n",
    "                    }\n",
    "\n",
    "        df_30_new.loc[len(df_30_new)] = temp_row\n",
    "\n",
    "    df_10_from_30 = pd.DataFrame(columns=['input_index','input_context','input_file_key','input_first_author',\n",
    "                                          'worker_id_w1','work_time_in_seconds_w1','label_w1',\n",
    "                                          'worker_id_w2','work_time_in_seconds_w2','label_w2',\n",
    "                                          'worker_id_w3','work_time_in_seconds_w3','label_w3',\n",
    "                                          'batch','majority_vote','majority_agreement'])\n",
    "\n",
    "    for hit_id in set(df_30_new['hit_id']):\n",
    "        df_temp = df_30_new[df_30_new['hit_id'] == hit_id].reset_index(drop=True)\n",
    "        temp_row = {'hit_id':hit_id,'input_index':df_temp['input_index'][0],\n",
    "                    'input_context':df_temp['input_context'][0],'input_file_key':df_temp['input_file_key'][0],\n",
    "                    'input_first_author':df_temp['input_first_author'][0],'batch':df_temp['batch'][0]}\n",
    "\n",
    "        for i, row in df_temp.iterrows():\n",
    "            worker = {f'worker_id_w{int(i+1)}':row['worker_id'],\n",
    "                      f'work_time_in_seconds_w{i+1}':row['work_time_in_seconds'],\n",
    "                      f'label_w{i+1}':row['task_answers']}\n",
    "            temp_row.update(worker)\n",
    "\n",
    "        label_counts = Counter([temp_row['label_w1'],temp_row['label_w2'],temp_row['label_w3']])\n",
    "\n",
    "        # Find the label with the highest count (majority vote)\n",
    "        majority_vote = label_counts.most_common(1)[0][0]        \n",
    "        agreement = label_counts.most_common(1)[0][1]        \n",
    "            \n",
    "        temp_row.update({'majority_vote':majority_vote})\n",
    "        temp_row.update({'majority_agreement':agreement})           \n",
    "            \n",
    "        df_10_from_30.loc[len(df_10_from_30)] = temp_row \n",
    "        \n",
    "    print(filename, end='\\n\\n')\n",
    "    \n",
    "    df_10_from_30.to_csv(f'{filename}',index=False)"
   ]
  },
  {
   "cell_type": "markdown",
   "id": "00620798-6e3b-442e-9a23-7f384ac773fc",
   "metadata": {},
   "source": [
    "## Sample creation"
   ]
  },
  {
   "cell_type": "code",
   "execution_count": 55,
   "id": "5912dfaa-87a9-473f-8cc1-241cd4186284",
   "metadata": {},
   "outputs": [
    {
     "name": "stdout",
     "output_type": "stream",
     "text": [
      "Sampled combined CSV created as 'selected_random_sample_from_mturk_crowdsourcing.csv'\n"
     ]
    }
   ],
   "source": [
    "import pandas as pd\n",
    "import glob\n",
    "\n",
    "# Set the directory path for the CSV files\n",
    "csv_dir = 'AWS_labelling/Mechanical_Turk/processed_results/*.csv'\n",
    "\n",
    "# Initialize an empty DataFrame to hold the sampled rows\n",
    "combined_df = pd.DataFrame()\n",
    "\n",
    "# Define selection requirements for each label\n",
    "selection_requirements = {\n",
    "    'Neutral': {2: 2, 3: 1},\n",
    "    'Positive': {2: 2, 3: 2},\n",
    "    'Negative': {2: 2, 3: 1}\n",
    "}\n",
    "\n",
    "# Loop through each CSV file in the directory\n",
    "for file in glob.glob(csv_dir):\n",
    "    # Read the CSV file\n",
    "    df = pd.read_csv(file)\n",
    "    \n",
    "    # Initialize a DataFrame to store selected rows for the current file\n",
    "    file_sampled_df = pd.DataFrame()\n",
    "\n",
    "    # Loop through each category and majority voting requirement\n",
    "    for label, vote_counts in selection_requirements.items():\n",
    "        for vote_value, count in vote_counts.items():\n",
    "            # Filter the DataFrame for the current label and vote value, then sample the required rows\n",
    "            label_vote_df = df[(df['majority_vote'] == label) & (df['majority_agreement'] == vote_value)]\n",
    "            # sampled_rows = label_vote_df.sample(n=count, random_state=42)  # Set random_state for reproducibility\n",
    "\n",
    "            # Check if there are enough rows to sample\n",
    "            available_rows = len(label_vote_df)\n",
    "            if available_rows >= count:\n",
    "                # If sufficient rows are available, sample the required number\n",
    "                sampled_rows = label_vote_df.sample(n=count, random_state=42)\n",
    "            else:\n",
    "                # If not enough rows are available, sample all available rows\n",
    "                sampled_rows = label_vote_df            \n",
    "            \n",
    "            \n",
    "            file_sampled_df = pd.concat([file_sampled_df, sampled_rows], ignore_index=True)\n",
    "    \n",
    "    # Append the selected rows from this file to the combined DataFrame\n",
    "    combined_df = pd.concat([combined_df, file_sampled_df], ignore_index=True)\n",
    "\n",
    "# Save the final combined DataFrame to a new CSV file\n",
    "combined_df.to_csv(r'AWS_labelling/Mechanical_Turk/selected_random_sample_from_mturk_crowdsourcing.csv', index=False)\n",
    "\n",
    "print(\"Sampled combined CSV created as 'selected_random_sample_from_mturk_crowdsourcing.csv'\")"
   ]
  },
  {
   "cell_type": "markdown",
   "id": "5e6ef365",
   "metadata": {},
   "source": [
    "### confusion matrix for manual labelled sample - selected from MTurk crowdsourcing"
   ]
  },
  {
   "cell_type": "code",
   "execution_count": 11,
   "id": "0e624f43-fb25-42fa-ac32-452a147ff5fe",
   "metadata": {},
   "outputs": [
    {
     "name": "stdout",
     "output_type": "stream",
     "text": [
      "Overall Accuracy: 93.85%\n",
      "\n",
      "Per-class Metrics:\n",
      "  Negative:\n",
      "    Precision: 88.71%\n",
      "    Recall: 100.00%\n",
      "    F1-Score: 94.02%\n",
      "  Neutral:\n",
      "    Precision: 96.15%\n",
      "    Recall: 86.21%\n",
      "    F1-Score: 90.91%\n",
      "  Positive:\n",
      "    Precision: 95.19%\n",
      "    Recall: 97.06%\n",
      "    F1-Score: 96.12%\n",
      "\n",
      "Overall Metrics:\n",
      "  Macro Precision: 93.35%\n",
      "  Macro Recall: 94.42%\n",
      "  Macro F1-Score: 93.68%\n",
      "  Weighted F1-Score: 93.79%\n"
     ]
    },
    {
     "data": {
      "image/png": "[encoded data removed]",
      "text/plain": [
       "<Figure size 600x400 with 2 Axes>"
      ]
     },
     "metadata": {},
     "output_type": "display_data"
    }
   ],
   "source": [
    "from sklearn.metrics import classification_report, confusion_matrix, accuracy_score\n",
    "import pandas as pd\n",
    "import seaborn as sns\n",
    "import matplotlib.pyplot as plt\n",
    "\n",
    "df_ = pd.read_csv(r'dataset/selected_random_sample_manually_labelled.csv')\n",
    "\n",
    "# Define the labels\n",
    "labels = ['Negative', 'Neutral', 'Positive']\n",
    "\n",
    "# Compute the confusion matrix\n",
    "cm = confusion_matrix(df_['majority_vote'], df_['lemos_label'], labels=labels)\n",
    "\n",
    "# Classification report for all metrics\n",
    "report = classification_report(df_['lemos_label'], df_['majority_vote'], labels=labels, output_dict=True)\n",
    "\n",
    "# Overall accuracy\n",
    "overall_accuracy = accuracy_score(df_['lemos_label'], df_['majority_vote'])\n",
    "print(f\"Overall Accuracy: {overall_accuracy:.2%}\")\n",
    "\n",
    "# Display per-class precision, recall, and F1-score\n",
    "print(\"\\nPer-class Metrics:\")\n",
    "for label in labels:\n",
    "    print(f\"  {label}:\")\n",
    "    print(f\"    Precision: {report[label]['precision']:.2%}\")\n",
    "    print(f\"    Recall: {report[label]['recall']:.2%}\")\n",
    "    print(f\"    F1-Score: {report[label]['f1-score']:.2%}\")\n",
    "\n",
    "# Display overall metrics\n",
    "print(\"\\nOverall Metrics:\")\n",
    "print(f\"  Macro Precision: {report['macro avg']['precision']:.2%}\")\n",
    "print(f\"  Macro Recall: {report['macro avg']['recall']:.2%}\")\n",
    "print(f\"  Macro F1-Score: {report['macro avg']['f1-score']:.2%}\")\n",
    "# print(f\"  Micro Precision/Recall/F1-Score: {report['micro avg']['precision']:.2%}\")\n",
    "print(f\"  Weighted F1-Score: {report['weighted avg']['f1-score']:.2%}\")\n",
    "\n",
    "# Plot the confusion matrix\n",
    "plt.figure(figsize=(6, 4))\n",
    "sns.heatmap(cm, annot=True, fmt='d', cmap='Blues', xticklabels=labels, yticklabels=labels, annot_kws={\"size\": 20})\n",
    "plt.xlabel('Our label', c='gray',fontsize=12)\n",
    "plt.ylabel('Majority voted label from MTurk', c='gray',fontsize=12)\n",
    "plt.savefig(r'plots/technical_validation_confusion_matrix.pdf', bbox_inches='tight', pad_inches=0.5)\n",
    "plt.show()"
   ]
  },
  {
   "cell_type": "code",
   "execution_count": 37,
   "id": "37c808fb",
   "metadata": {},
   "outputs": [
    {
     "name": "stdout",
     "output_type": "stream",
     "text": [
      "Correct 'Negative' predictions: 55/55\n",
      "Correct 'Positive' predictions: 99/102\n",
      "Correct 'Neutral' predictions: 75/87\n"
     ]
    }
   ],
   "source": [
    "label_counts = df_['lemos_label'].value_counts()\n",
    "\n",
    "# Initialize counts for each label\n",
    "correct_negative = sum(1 for true, pred in zip(df_['lemos_label'], df_['majority_vote']) if true == pred and true == \"Negative\")\n",
    "correct_positive = sum(1 for true, pred in zip(df_['lemos_label'], df_['majority_vote']) if true == pred and true == \"Positive\")\n",
    "correct_neutral = sum(1 for true, pred in zip(df_['lemos_label'], df_['majority_vote']) if true == pred and true == \"Neutral\")\n",
    "\n",
    "# Print results\n",
    "print(f\"Correct 'Negative' predictions: {correct_negative}/{label_counts['Negative']}\")\n",
    "print(f\"Correct 'Positive' predictions: {correct_positive}/{label_counts['Positive']}\")\n",
    "print(f\"Correct 'Neutral' predictions: {correct_neutral}/{label_counts['Neutral']}\")"
   ]
  },
  {
   "cell_type": "code",
   "execution_count": 38,
   "id": "01d0a09e-2c7a-40f3-92b7-7aa60a20295c",
   "metadata": {},
   "outputs": [
    {
     "data": {
      "text/plain": [
       "{'Negative': {'precision': 0.8870967741935484,\n",
       "  'recall': 1.0,\n",
       "  'f1-score': 0.9401709401709402,\n",
       "  'support': 55},\n",
       " 'Neutral': {'precision': 0.9615384615384616,\n",
       "  'recall': 0.8620689655172413,\n",
       "  'f1-score': 0.9090909090909091,\n",
       "  'support': 87},\n",
       " 'Positive': {'precision': 0.9519230769230769,\n",
       "  'recall': 0.9705882352941176,\n",
       "  'f1-score': 0.9611650485436893,\n",
       "  'support': 102},\n",
       " 'accuracy': 0.9385245901639344,\n",
       " 'macro avg': {'precision': 0.9335194375516956,\n",
       "  'recall': 0.9442190669371197,\n",
       "  'f1-score': 0.9368089659351795,\n",
       "  'support': 244},\n",
       " 'weighted avg': {'precision': 0.9407390269698572,\n",
       "  'recall': 0.9385245901639344,\n",
       "  'f1-score': 0.9378653514416684,\n",
       "  'support': 244}}"
      ]
     },
     "execution_count": 38,
     "metadata": {},
     "output_type": "execute_result"
    }
   ],
   "source": [
    "report"
   ]
  },
  {
   "cell_type": "code",
   "execution_count": 40,
   "id": "7e68f030",
   "metadata": {},
   "outputs": [
    {
     "name": "stdout",
     "output_type": "stream",
     "text": [
      "Micro-average Precision: 0.9406\n",
      "Micro-average Recall: 0.9385\n",
      "Micro-average F1-Score: 0.9396\n"
     ]
    }
   ],
   "source": [
    "from sklearn.metrics import precision_recall_fscore_support\n",
    "\n",
    "# Precision, recall, f1-score, and support for each label\n",
    "labels = ['Negative', 'Neutral', 'Positive']\n",
    "metrics = report\n",
    "\n",
    "# Extracting true positives (TP), false positives (FP), false negatives (FN), and true negatives (TN)\n",
    "true_positives = []\n",
    "false_positives = []\n",
    "false_negatives = []\n",
    "true_negatives = []\n",
    "\n",
    "# Loop through each class and calculate the needed metrics\n",
    "for label in labels:\n",
    "    precision = metrics[label]['precision']\n",
    "    recall = metrics[label]['recall']\n",
    "    f1_score = metrics[label]['f1-score']\n",
    "    support = metrics[label]['support']\n",
    "    \n",
    "    # For micro averaging: we accumulate TP, FP, FN for each label\n",
    "    TP = recall * support  # True Positives = Recall * Support\n",
    "    FP = (1 - precision) * (support)  # False Positives = (1 - Precision) * Support\n",
    "    FN = (1 - recall) * support  # False Negatives = (1 - Recall) * Support\n",
    "    TN = support - TP - FP - FN  # True Negatives\n",
    "    \n",
    "    true_positives.append(TP)\n",
    "    false_positives.append(FP)\n",
    "    false_negatives.append(FN)\n",
    "    true_negatives.append(TN)\n",
    "\n",
    "# Calculate micro averages for Precision, Recall, and F1-score\n",
    "total_TP = sum(true_positives)\n",
    "total_FP = sum(false_positives)\n",
    "total_FN = sum(false_negatives)\n",
    "total_TN = sum(true_negatives)\n",
    "\n",
    "# Micro-averaged Precision\n",
    "micro_precision = total_TP / (total_TP + total_FP)\n",
    "\n",
    "# Micro-averaged Recall\n",
    "micro_recall = total_TP / (total_TP + total_FN)\n",
    "\n",
    "# Micro-averaged F1-Score\n",
    "micro_f1 = 2 * (micro_precision * micro_recall) / (micro_precision + micro_recall)\n",
    "\n",
    "# Print results\n",
    "print(f\"Micro-average Precision: {micro_precision:.4f}\")\n",
    "print(f\"Micro-average Recall: {micro_recall:.4f}\")\n",
    "print(f\"Micro-average F1-Score: {micro_f1:.4f}\")"
   ]
  },
  {
   "cell_type": "code",
   "execution_count": 43,
   "id": "8abcbea1",
   "metadata": {},
   "outputs": [],
   "source": [
    "report['micro-avg'] = {'precision': f'{micro_precision:.6f}',\n",
    "  'recall': f'{micro_recall:.6f}',\n",
    "  'f1-score': f'{micro_f1:.6f}',\n",
    "  'support': 244.0}"
   ]
  },
  {
   "cell_type": "code",
   "execution_count": 44,
   "id": "aa4fe15a",
   "metadata": {
    "scrolled": true
   },
   "outputs": [
    {
     "data": {
      "text/html": [
       "<div>\n",
       "<style scoped>\n",
       "    .dataframe tbody tr th:only-of-type {\n",
       "        vertical-align: middle;\n",
       "    }\n",
       "\n",
       "    .dataframe tbody tr th {\n",
       "        vertical-align: top;\n",
       "    }\n",
       "\n",
       "    .dataframe thead th {\n",
       "        text-align: right;\n",
       "    }\n",
       "</style>\n",
       "<table border=\"1\" class=\"dataframe\">\n",
       "  <thead>\n",
       "    <tr style=\"text-align: right;\">\n",
       "      <th></th>\n",
       "      <th>precision</th>\n",
       "      <th>recall</th>\n",
       "      <th>f1-score</th>\n",
       "      <th>support</th>\n",
       "    </tr>\n",
       "  </thead>\n",
       "  <tbody>\n",
       "    <tr>\n",
       "      <th>Negative</th>\n",
       "      <td>0.887097</td>\n",
       "      <td>1.0</td>\n",
       "      <td>0.940171</td>\n",
       "      <td>55.0</td>\n",
       "    </tr>\n",
       "    <tr>\n",
       "      <th>Neutral</th>\n",
       "      <td>0.961538</td>\n",
       "      <td>0.862069</td>\n",
       "      <td>0.909091</td>\n",
       "      <td>87.0</td>\n",
       "    </tr>\n",
       "    <tr>\n",
       "      <th>Positive</th>\n",
       "      <td>0.951923</td>\n",
       "      <td>0.970588</td>\n",
       "      <td>0.961165</td>\n",
       "      <td>102.0</td>\n",
       "    </tr>\n",
       "    <tr>\n",
       "      <th>accuracy</th>\n",
       "      <td>0.938525</td>\n",
       "      <td>0.938525</td>\n",
       "      <td>0.938525</td>\n",
       "      <td>0.938525</td>\n",
       "    </tr>\n",
       "    <tr>\n",
       "      <th>macro avg</th>\n",
       "      <td>0.933519</td>\n",
       "      <td>0.944219</td>\n",
       "      <td>0.936809</td>\n",
       "      <td>244.0</td>\n",
       "    </tr>\n",
       "    <tr>\n",
       "      <th>weighted avg</th>\n",
       "      <td>0.940739</td>\n",
       "      <td>0.938525</td>\n",
       "      <td>0.937865</td>\n",
       "      <td>244.0</td>\n",
       "    </tr>\n",
       "    <tr>\n",
       "      <th>micro-avg</th>\n",
       "      <td>0.940608</td>\n",
       "      <td>0.938525</td>\n",
       "      <td>0.939565</td>\n",
       "      <td>244.0</td>\n",
       "    </tr>\n",
       "  </tbody>\n",
       "</table>\n",
       "</div>"
      ],
      "text/plain": [
       "             precision    recall  f1-score   support\n",
       "Negative      0.887097       1.0  0.940171      55.0\n",
       "Neutral       0.961538  0.862069  0.909091      87.0\n",
       "Positive      0.951923  0.970588  0.961165     102.0\n",
       "accuracy      0.938525  0.938525  0.938525  0.938525\n",
       "macro avg     0.933519  0.944219  0.936809     244.0\n",
       "weighted avg  0.940739  0.938525  0.937865     244.0\n",
       "micro-avg     0.940608  0.938525  0.939565     244.0"
      ]
     },
     "execution_count": 44,
     "metadata": {},
     "output_type": "execute_result"
    }
   ],
   "source": [
    "report_df = pd.DataFrame(report).transpose()\n",
    "report_df"
   ]
  },
  {
   "cell_type": "code",
   "execution_count": 2,
   "id": "945ad688",
   "metadata": {},
   "outputs": [
    {
     "data": {
      "image/png": "[encoded data removed]",
      "text/plain": [
       "<Figure size 700x700 with 1 Axes>"
      ]
     },
     "metadata": {},
     "output_type": "display_data"
    },
    {
     "data": {
      "text/plain": [
       "Neutral     0.791668\n",
       "Positive    0.197530\n",
       "Negative    0.010802\n",
       "Name: majority_vote, dtype: float64"
      ]
     },
     "execution_count": 2,
     "metadata": {},
     "output_type": "execute_result"
    }
   ],
   "source": [
    "import pandas as pd\n",
    "import matplotlib.pyplot as plt\n",
    "\n",
    "# Read the CSV file into a DataFrame\n",
    "csv_file = r'dataset/cc25k_dataset.csv'\n",
    "df = pd.read_csv(csv_file)\n",
    "\n",
    "# Calculate the percentage of occurrences for each label type in the 'majority_vote' column\n",
    "label_counts = df['majority_vote'].value_counts(normalize=True) * 100\n",
    "\n",
    "# Plot the results as a pie chart\n",
    "plt.figure(figsize=(7, 7))\n",
    "plt.pie(label_counts, labels=label_counts.index, autopct='%1.1f%%', startangle=90, colors=['#ff9999','#66b3ff','#99ff99','#ffcc99'])\n",
    "plt.title('Percentage of Occurrences for Each Label Type')\n",
    "plt.axis('equal')  # Equal aspect ratio ensures that pie chart is circular\n",
    "plt.show()\n",
    "\n",
    "label_counts\n",
    "df['majority_vote'].value_counts(normalize=True)"
   ]
  },
  {
   "cell_type": "code",
   "execution_count": 3,
   "id": "43c28771",
   "metadata": {},
   "outputs": [
    {
     "data": {
      "text/plain": [
       "Neutral     20448\n",
       "Positive     5102\n",
       "Negative      279\n",
       "Name: majority_vote, dtype: int64"
      ]
     },
     "execution_count": 3,
     "metadata": {},
     "output_type": "execute_result"
    }
   ],
   "source": [
    "df['majority_vote'].value_counts()"
   ]
  },
  {
   "cell_type": "code",
   "execution_count": null,
   "id": "6dcb5d2f-c4ff-449a-81b2-33349ebf9dac",
   "metadata": {},
   "outputs": [],
   "source": []
  }
 ],
 "metadata": {
  "kernelspec": {
   "display_name": "Python 3 (ipykernel)",
   "language": "python",
   "name": "python3"
  },
  "language_info": {
   "codemirror_mode": {
    "name": "ipython",
    "version": 3
   },
   "file_extension": ".py",
   "mimetype": "text/x-python",
   "name": "python",
   "nbconvert_exporter": "python",
   "pygments_lexer": "ipython3",
   "version": "3.8.19"
  }
 },
 "nbformat": 4,
 "nbformat_minor": 5
}
