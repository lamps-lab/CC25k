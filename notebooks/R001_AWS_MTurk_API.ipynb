{
 "cells": [
  {
   "cell_type": "code",
   "execution_count": 1,
   "id": "fba04f6c",
   "metadata": {},
   "outputs": [],
   "source": [
    "\"\"\"\n",
    "R001_Fall_2023_AI_Reproducibility__\n",
    "|\n",
    "R001_AWS_MTurk_API.ipynb\n",
    "Created on Wed Aug 21 16:46:46 2024\n",
    "@author: Rochana Obadage\n",
    "\"\"\""
   ]
  },
  {
   "cell_type": "code",
   "execution_count": 4,
   "id": "8a2e798e",
   "metadata": {
    "scrolled": true
   },
   "outputs": [],
   "source": [
    "!python --version"
   ]
  },
  {
   "cell_type": "code",
   "execution_count": 1,
   "id": "fa3f6c99",
   "metadata": {},
   "outputs": [],
   "source": [
    "import os\n",
    "import json\n",
    "import glob\n",
    "import pandas as pd\n",
    "import boto3"
   ]
  },
  {
   "cell_type": "markdown",
   "id": "85fc1bb0",
   "metadata": {},
   "source": [
    "## ``Accessing mtruk API``"
   ]
  },
  {
   "cell_type": "markdown",
   "id": "581ef299",
   "metadata": {},
   "source": [
    "### using I AM role credentials\n",
    "\n",
    "https://boto3.amazonaws.com/v1/documentation/api/latest/reference/services/mturk.html"
   ]
  },
  {
   "cell_type": "code",
   "execution_count": 3,
   "id": "139268ab",
   "metadata": {},
   "outputs": [
    {
     "name": "stdout",
     "output_type": "stream",
     "text": [
      "I have $10000.00 in my Sandbox account\n"
     ]
    }
   ],
   "source": [
    "import boto3\n",
    "\n",
    "IAM_USER_ACCESS_KEY = ''\n",
    "IAM_USER_SECRET_KEY = ''\n",
    "\n",
    "MTURK_SANDBOX = 'https://mturk-requester-sandbox.us-east-1.amazonaws.com'\n",
    "MTURK_ACTUAL_ACCOUNT = 'https://mturk-requester.us-east-1.amazonaws.com'\n",
    "\n",
    "mturk = boto3.client('mturk',\n",
    "   aws_access_key_id = IAM_USER_ACCESS_KEY,\n",
    "   aws_secret_access_key = IAM_USER_SECRET_KEY,\n",
    "   region_name='us-east-1',\n",
    "   endpoint_url = MTURK_SANDBOX\n",
    ")\n",
    "\n",
    "print(\"I have $\" + mturk.get_account_balance()['AvailableBalance'] + \" in my Sandbox account\")"
   ]
  },
  {
   "cell_type": "code",
   "execution_count": 5,
   "id": "03097517",
   "metadata": {},
   "outputs": [],
   "source": [
    "import boto3\n",
    "\n",
    "IAM_USER_ACCESS_KEY = ''\n",
    "IAM_USER_SECRET_KEY = ''\n",
    "\n",
    "MTURK_SANDBOX = 'https://mturk-requester-sandbox.us-east-1.amazonaws.com'\n",
    "MTURK_ACTUAL_ACCOUNT = 'https://mturk-requester.us-east-1.amazonaws.com'\n",
    "\n",
    "mturk = boto3.client('mturk',\n",
    "   aws_access_key_id = IAM_USER_ACCESS_KEY,\n",
    "   aws_secret_access_key = IAM_USER_SECRET_KEY,\n",
    "   region_name='us-east-1',\n",
    "   endpoint_url = MTURK_ACTUAL_ACCOUNT\n",
    ")\n",
    "\n",
    "print(\"I have $\" + mturk.get_account_balance()['AvailableBalance'] + \" in my actual account\")"
   ]
  },
  {
   "cell_type": "code",
   "execution_count": 18,
   "id": "d4ab9bfb",
   "metadata": {},
   "outputs": [
    {
     "name": "stdout",
     "output_type": "stream",
     "text": [
      "{'NumResults': 1, 'NextToken': 'p2:barQnERkqyB4vu0kDsULzzvd89+9XCil0vKSJfgRCzBuxZ5VSqv6hUxAz6/+PA==', 'QualificationTypes': [{'QualificationTypeId': '366YTVRWU0FBAJ7BLJGM8F5LTOQDRG', 'CreationTime': datetime.datetime(2024, 8, 21, 16, 14, 8, tzinfo=tzlocal()), 'Name': 'citation-context-good-performer', 'Description': 'This qualification is assigned to the workers who had at  least 80% accuracy when labelling the citation context sample with 100 records (100_sample_with_columns_for_mturk.csv)', 'QualificationTypeStatus': 'Active', 'IsRequestable': True, 'AutoGranted': False}], 'ResponseMetadata': {'RequestId': '8fe70bbf-b962-4144-b1d1-503ffd22a8cb', 'HTTPStatusCode': 200, 'HTTPHeaders': {'x-amzn-requestid': '8fe70bbf-b962-4144-b1d1-503ffd22a8cb', 'content-type': 'application/x-amz-json-1.1', 'content-length': '517', 'date': 'Wed, 21 Aug 2024 21:17:41 GMT'}, 'RetryAttempts': 0}}\n",
      "{'NumResults': 0, 'QualificationTypes': [], 'ResponseMetadata': {'RequestId': '9b0d81c1-5519-40ed-8fb3-7b45bedbfa3c', 'HTTPStatusCode': 200, 'HTTPHeaders': {'x-amzn-requestid': '9b0d81c1-5519-40ed-8fb3-7b45bedbfa3c', 'content-type': 'application/x-amz-json-1.1', 'content-length': '40', 'date': 'Wed, 21 Aug 2024 21:17:41 GMT'}, 'RetryAttempts': 0}}\n"
     ]
    }
   ],
   "source": [
    "paginator = mturk.get_paginator('list_qualification_types')\n",
    "\n",
    "response_iterator = paginator.paginate(\n",
    "    MustBeRequestable=True,\n",
    "    MustBeOwnedByCaller=True\n",
    ")\n",
    "\n",
    "for page in response_iterator:\n",
    "    print(page)\n"
   ]
  },
  {
   "cell_type": "code",
   "execution_count": 6,
   "id": "4650dc8f",
   "metadata": {},
   "outputs": [],
   "source": [
    "# Notify workers\n",
    "import boto3\n",
    "\n",
    "IAM_USER_ACCESS_KEY = ''\n",
    "IAM_USER_SECRET_KEY = ''\n",
    "\n",
    "MTURK_SANDBOX = 'https://mturk-requester-sandbox.us-east-1.amazonaws.com'\n",
    "MTURK_ACTUAL_ACCOUNT = 'https://mturk-requester.us-east-1.amazonaws.com'\n",
    "\n",
    "mturk = boto3.client('mturk',\n",
    "   aws_access_key_id = IAM_USER_ACCESS_KEY,\n",
    "   aws_secret_access_key = IAM_USER_SECRET_KEY,\n",
    "   region_name='us-east-1',\n",
    "   endpoint_url = MTURK_ACTUAL_ACCOUNT\n",
    ")\n",
    "\n",
    "response = mturk.notify_workers(\n",
    "    Subject='New citation context labeling job - possible ~25000 HITs in the Future',\n",
    "    MessageText='Hi, I am Rochana, and I would like to invite you to a new citation context labeling job. \\\n",
    "    Please search for the Requester name \"Rochana\" or the Title \"Citation Context Sentiment Analysis - 3 label categories\". We are currently in the process \\\n",
    "    of selecting workers, and if you are selected, there will be an opportunity to work on a larger number of HITs. \\\n",
    "    Please read through the complete set of instructions and examples. Keywords: sentiment, text, labeling, \\\n",
    "    classification, single label, citation contexts.',\n",
    "    WorkerIds=[\n",
    "        'A1BUAVJPLFXBVG', 'AFG81KWHD42HQ', 'AOJSAAC4AE2MD', 'A25HETTI76GHCL', 'A336SDY652S9GU','A9SX8QJ1BJLZ9',\n",
    "        'AEIDL4NYQG5N0','A2GYB4F0VPUVR0','A2BCRXRB2XOGT2','A3AF2X1PS6P53W','A2AX2L3LN3ETZL','A1UWZUJZ3OM2TF',\n",
    "        'AYWS8Z3ZP73XC','A343FCV2AV9A6E','A2CBDBS29BF2OX','A1A4WDNPPGYWT5','A7RFA4TWKO51G','A2SGZI8RTUEV4S'\n",
    "    ]\n",
    ")"
   ]
  },
  {
   "cell_type": "code",
   "execution_count": 1,
   "id": "f372ca3a",
   "metadata": {},
   "outputs": [],
   "source": [
    "# Notify workers\n",
    "import boto3\n",
    "\n",
    "IAM_USER_ACCESS_KEY = ''\n",
    "IAM_USER_SECRET_KEY = ''\n",
    "\n",
    "MTURK_SANDBOX = 'https://mturk-requester-sandbox.us-east-1.amazonaws.com'\n",
    "MTURK_ACTUAL_ACCOUNT = 'https://mturk-requester.us-east-1.amazonaws.com'\n",
    "\n",
    "mturk = boto3.client('mturk',\n",
    "   aws_access_key_id = IAM_USER_ACCESS_KEY,\n",
    "   aws_secret_access_key = IAM_USER_SECRET_KEY,\n",
    "   region_name='us-east-1',\n",
    "   endpoint_url = MTURK_ACTUAL_ACCOUNT\n",
    ")\n",
    "\n",
    "response = mturk.notify_workers(\n",
    "    Subject='Reminder: Complete Unfinished HITs for Citation Context Labeling',\n",
    "    MessageText='Hi All, \\nThere are some unfinished HITs from previously posted batches. We kindly request you to complete these so that we can post the next batches for the citation context labeling job. Please search for the Requester name \"Rochana\" or the title \"Citation Context Sentiment Analysis - 3 label categories\".\\n\\nThank you for your cooperation.',\n",
    "    WorkerIds=[\n",
    "    \"A18LFH7XW61JO9\", \"A1FVXS8IM5QYO8\", \"A1G94QON7A9K0N\", \"A1IXVXZ5AYYNMJ\",\n",
    "    \"A22KRF782ELLB0\", \"A27PVIL93ZMY46\", \"A2HM35CWB7IIFM\", \"A2QD9PJUKW7PKK\",\n",
    "    \"A2R2YZTSME1K3F\", \"A37WXDYYT7RCZ0\", \"A3EG4C9T4F5DUR\", \"A3NAHN61XJ3ZAT\",\n",
    "    \"A5V3ZMQI0PU3F\", \"AH3ER3EJXHRO2\", \"AJ0RL2YCXZC25\", \"AKSJ3C5O3V9RB\"\n",
    "]\n",
    ")"
   ]
  },
  {
   "cell_type": "code",
   "execution_count": null,
   "id": "53c31f94",
   "metadata": {},
   "outputs": [],
   "source": []
  },
  {
   "cell_type": "code",
   "execution_count": null,
   "id": "64985f30",
   "metadata": {},
   "outputs": [],
   "source": []
  },
  {
   "cell_type": "code",
   "execution_count": null,
   "id": "8abcbea1",
   "metadata": {},
   "outputs": [],
   "source": []
  }
 ],
 "metadata": {
  "kernelspec": {
   "display_name": "Python 3 (ipykernel)",
   "language": "python",
   "name": "python3"
  },
  "language_info": {
   "codemirror_mode": {
    "name": "ipython",
    "version": 3
   },
   "file_extension": ".py",
   "mimetype": "text/x-python",
   "name": "python",
   "nbconvert_exporter": "python",
   "pygments_lexer": "ipython3",
   "version": "3.8.19"
  }
 },
 "nbformat": 4,
 "nbformat_minor": 5
}
